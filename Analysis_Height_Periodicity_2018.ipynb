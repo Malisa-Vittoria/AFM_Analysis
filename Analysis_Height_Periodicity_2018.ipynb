{
 "cells": [
  {
   "cell_type": "code",
   "execution_count": 1,
   "metadata": {},
   "outputs": [],
   "source": [
    "import numpy as np\n",
    "import matplotlib.pyplot as plt\n",
    "import scipy\n",
    "import peakutils"
   ]
  },
  {
   "cell_type": "code",
   "execution_count": 214,
   "metadata": {},
   "outputs": [
    {
     "name": "stdout",
     "output_type": "stream",
     "text": [
      "[[0.0000000e+00 2.0125329e-09]\n",
      " [3.9099404e-09 1.9955706e-09]\n",
      " [7.8198807e-09 2.0639831e-09]\n",
      " [1.1729821e-08 2.0248811e-09]\n",
      " [1.5639761e-08 2.0287979e-09]\n",
      " [1.9549702e-08 2.1937669e-09]\n",
      " [2.3459642e-08 2.3785045e-09]\n",
      " [2.7369583e-08 3.0847683e-09]\n",
      " [3.1279523e-08 4.4501259e-09]\n",
      " [3.5189463e-08 5.5843129e-09]\n",
      " [3.9099404e-08 6.1619676e-09]\n",
      " [4.3009344e-08 5.7837003e-09]\n",
      " [4.6919284e-08 4.5904395e-09]\n",
      " [5.0829225e-08 3.3615638e-09]\n",
      " [5.4739165e-08 2.8388726e-09]\n",
      " [5.8649105e-08 2.8518085e-09]\n",
      " [6.2559046e-08 2.9133688e-09]\n",
      " [6.6468986e-08 2.7626509e-09]\n",
      " [7.0378927e-08 2.2689656e-09]\n",
      " [7.4288867e-08 2.1810206e-09]\n",
      " [7.8198807e-08 2.2058876e-09]\n",
      " [8.2108748e-08 2.3513869e-09]\n",
      " [8.6018688e-08 2.4478031e-09]\n",
      " [8.9928628e-08 2.5314591e-09]]\n"
     ]
    }
   ],
   "source": [
    "data = open('Pep_seeded_acetonitril/05_00_Fib13').read() #Replace the comma by dot in txt file\n",
    "data = data.replace(',' , '.')\n",
    "f = open('Pep_seeded_acetonitril/05_00_Fib13_point', 'w')\n",
    "f.write(data)\n",
    "f.close\n",
    "data = np.genfromtxt('Pep_seeded_acetonitril/05_00_Fib13_point') #Read txt file\n",
    "print(data)"
   ]
  },
  {
   "cell_type": "code",
   "execution_count": 215,
   "metadata": {},
   "outputs": [
    {
     "data": {
      "text/plain": [
       "[<matplotlib.lines.Line2D at 0x1518266350>]"
      ]
     },
     "execution_count": 215,
     "metadata": {},
     "output_type": "execute_result"
    },
    {
     "data": {
      "image/png": "[encoded data removed]",
      "text/plain": [
       "<matplotlib.figure.Figure at 0x1518266290>"
      ]
     },
     "metadata": {},
     "output_type": "display_data"
    }
   ],
   "source": [
    "x = np.array(data[:,0]) #All rows, first column\n",
    "y = np.array(data[:,1]) #All rows, second column\n",
    "baseline_values = peakutils.baseline(y) #Baseline correction\n",
    "plt.plot(x, y)\n",
    "plt.plot(x, baseline_values)"
   ]
  },
  {
   "cell_type": "code",
   "execution_count": 216,
   "metadata": {},
   "outputs": [
    {
     "data": {
      "text/plain": [
       "4.166397e-09"
      ]
     },
     "execution_count": 216,
     "metadata": {},
     "output_type": "execute_result"
    }
   ],
   "source": [
    "y13 = np.amax(y) - np.amin(y)\n",
    "y13"
   ]
  },
  {
   "cell_type": "code",
   "execution_count": 217,
   "metadata": {},
   "outputs": [
    {
     "data": {
      "text/plain": [
       "array([4.62067780e-09, 4.03697160e-09, 3.47701902e-09, 5.68748806e-09,\n",
       "       3.52477620e-09, 4.66577316e-09, 3.87410032e-09, 3.18121143e-09,\n",
       "       4.27401840e-09, 4.64034199e-09, 3.24737900e-09, 5.28938489e-09,\n",
       "       4.16639700e-09])"
      ]
     },
     "execution_count": 217,
     "metadata": {},
     "output_type": "execute_result"
    }
   ],
   "source": [
    "hmax = np.array([y1, y2, y3, y4, y5, y6, y7, y8, y9, y10, y11, y12, y13])\n",
    "hmax"
   ]
  },
  {
   "cell_type": "code",
   "execution_count": 218,
   "metadata": {},
   "outputs": [],
   "source": [
    "np.savetxt('Pep_seeded_acetonitril/hmax_morph2/Fib_hmax.out', hmax, delimiter=',')"
   ]
  },
  {
   "cell_type": "code",
   "execution_count": null,
   "metadata": {},
   "outputs": [],
   "source": []
  }
 ],
 "metadata": {
  "kernelspec": {
   "display_name": "Python 2",
   "language": "python",
   "name": "python2"
  },
  "language_info": {
   "codemirror_mode": {
    "name": "ipython",
    "version": 2
   },
   "file_extension": ".py",
   "mimetype": "text/x-python",
   "name": "python",
   "nbconvert_exporter": "python",
   "pygments_lexer": "ipython2",
   "version": "2.7.14"
  }
 },
 "nbformat": 4,
 "nbformat_minor": 2
}
